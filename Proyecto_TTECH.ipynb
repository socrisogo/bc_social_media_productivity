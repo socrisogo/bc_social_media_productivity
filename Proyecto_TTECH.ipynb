{
  "nbformat": 4,
  "nbformat_minor": 0,
  "metadata": {
    "colab": {
      "provenance": [],
      "authorship_tag": "ABX9TyN1JsdOMFuiHzLHEOI7b+mV",
      "include_colab_link": true
    },
    "kernelspec": {
      "name": "python3",
      "display_name": "Python 3"
    },
    "language_info": {
      "name": "python"
    }
  },
  "cells": [
    {
      "cell_type": "markdown",
      "metadata": {
        "id": "view-in-github",
        "colab_type": "text"
      },
      "source": [
        "<a href=\"https://colab.research.google.com/github/socrisogo/bc_social_media_productivity/blob/main/Proyecto_TTECH.ipynb\" target=\"_parent\"><img src=\"https://colab.research.google.com/assets/colab-badge.svg\" alt=\"Open In Colab\"/></a>"
      ]
    },
    {
      "cell_type": "markdown",
      "source": [
        "#Este es el formato para el proyecto TTECH\n"
      ],
      "metadata": {
        "id": "28-T1iv-wUKS"
      }
    },
    {
      "cell_type": "code",
      "source": [
        "# Librerías:\n",
        "import pandas as pd\n",
        "import numpy as np\n",
        "import matplotlib.pyplot as plt\n",
        "import seaborn as sns\n",
        "# pip install kagglehub[pandas-datasets]\n",
        "import kagglehub\n",
        "from kagglehub import KaggleDatasetAdapter\n",
        "\n",
        "\n",
        "# Download latest version\n",
        "path = kagglehub.dataset_download(\"mahdimashayekhi/social-media-vs-productivity\")\n",
        "\n",
        "print(\"Path to dataset files:\", path)"
      ],
      "metadata": {
        "colab": {
          "base_uri": "https://localhost:8080/"
        },
        "id": "tPqxbDmMr0Zu",
        "outputId": "876ad6a9-46c1-41a5-e5c3-024cefb949f5"
      },
      "execution_count": 3,
      "outputs": [
        {
          "output_type": "stream",
          "name": "stdout",
          "text": [
            "Path to dataset files: /kaggle/input/social-media-vs-productivity\n"
          ]
        }
      ]
    },
    {
      "cell_type": "markdown",
      "source": [],
      "metadata": {
        "id": "preTo4tHv7Za"
      }
    },
    {
      "cell_type": "code",
      "execution_count": 10,
      "metadata": {
        "id": "7HYCDFb5vub-",
        "colab": {
          "base_uri": "https://localhost:8080/"
        },
        "outputId": "eb813d7e-a0e7-407c-f9a3-77b79dc6ad8d"
      },
      "outputs": [
        {
          "output_type": "stream",
          "name": "stderr",
          "text": [
            "/tmp/ipython-input-10-3275195153.py:5: DeprecationWarning: load_dataset is deprecated and will be removed in a future version.\n",
            "  df = kagglehub.load_dataset(\n"
          ]
        },
        {
          "output_type": "stream",
          "name": "stdout",
          "text": [
            "First 5 records:    age  gender    job_type  daily_social_media_time  \\\n",
            "0   56    Male  Unemployed                 4.180940   \n",
            "1   46    Male      Health                 3.249603   \n",
            "2   32    Male     Finance                      NaN   \n",
            "3   60  Female  Unemployed                      NaN   \n",
            "4   25    Male          IT                      NaN   \n",
            "\n",
            "  social_platform_preference  number_of_notifications  work_hours_per_day  \\\n",
            "0                   Facebook                       61            6.753558   \n",
            "1                    Twitter                       59            9.169296   \n",
            "2                    Twitter                       57            7.910952   \n",
            "3                   Facebook                       59            6.355027   \n",
            "4                   Telegram                       66            6.214096   \n",
            "\n",
            "   perceived_productivity_score  actual_productivity_score  stress_level  \\\n",
            "0                      8.040464                   7.291555           4.0   \n",
            "1                      5.063368                   5.165093           7.0   \n",
            "2                      3.861762                   3.474053           4.0   \n",
            "3                      2.916331                   1.774869           6.0   \n",
            "4                      8.868753                        NaN           7.0   \n",
            "\n",
            "   sleep_hours  screen_time_before_sleep  breaks_during_work  uses_focus_apps  \\\n",
            "0     5.116546                  0.419102                   8            False   \n",
            "1     5.103897                  0.671519                   7             True   \n",
            "2     8.583222                  0.624378                   0             True   \n",
            "3     6.052984                  1.204540                   1            False   \n",
            "4     5.405706                  1.876254                   1            False   \n",
            "\n",
            "   has_digital_wellbeing_enabled  coffee_consumption_per_day  \\\n",
            "0                          False                           4   \n",
            "1                           True                           2   \n",
            "2                          False                           3   \n",
            "3                          False                           0   \n",
            "4                           True                           1   \n",
            "\n",
            "   days_feeling_burnout_per_month  weekly_offline_hours  \\\n",
            "0                              11             21.927072   \n",
            "1                              25              0.000000   \n",
            "2                              17             10.322044   \n",
            "3                               4             23.876616   \n",
            "4                              30             10.653519   \n",
            "\n",
            "   job_satisfaction_score  \n",
            "0                6.336688  \n",
            "1                3.412427  \n",
            "2                2.474944  \n",
            "3                1.733670  \n",
            "4                9.693060  \n"
          ]
        }
      ],
      "source": [
        "# Define the file path within the downloaded dataset directory.\n",
        "# You might need to check the actual file name in the downloaded path\n",
        "file_path = \"social_media_vs_productivity.csv\" # Assuming the file is named \"Social Media and Mental Health.csv\"\n",
        "\n",
        "df = kagglehub.load_dataset(\n",
        "  KaggleDatasetAdapter.PANDAS,\n",
        "  \"mahdimashayekhi/social-media-vs-productivity\",\n",
        "  file_path,\n",
        "  # Provide any additional arguments like\n",
        "  # sql_query or pandas_kwargs. See the\n",
        "  # documenation for more information:\n",
        "  # https://github.com/Kaggle/kagglehub/blob/main/README.md#kaggledatasetadapterpandas\n",
        ")\n",
        "\n",
        "print(\"First 5 records:\", df.head())"
      ]
    },
    {
      "cell_type": "code",
      "metadata": {
        "colab": {
          "base_uri": "https://localhost:8080/"
        },
        "id": "436328a3",
        "outputId": "884525e6-32f6-47fd-93bb-a77207622c35"
      },
      "source": [
        "import os\n",
        "print(os.listdir(path))"
      ],
      "execution_count": 8,
      "outputs": [
        {
          "output_type": "stream",
          "name": "stdout",
          "text": [
            "['social_media_vs_productivity.csv']\n"
          ]
        }
      ]
    }
  ]
}