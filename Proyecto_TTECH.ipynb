{
  "nbformat": 4,
  "nbformat_minor": 0,
  "metadata": {
    "colab": {
      "provenance": [],
      "include_colab_link": true
    },
    "kernelspec": {
      "name": "python3",
      "display_name": "Python 3"
    },
    "language_info": {
      "name": "python"
    }
  },
  "cells": [
    {
      "cell_type": "markdown",
      "metadata": {
        "id": "view-in-github",
        "colab_type": "text"
      },
      "source": [
        "<a href=\"https://colab.research.google.com/github/socrisogo/bc_social_media_productivity/blob/main/Proyecto_TTECH.ipynb\" target=\"_parent\"><img src=\"https://colab.research.google.com/assets/colab-badge.svg\" alt=\"Open In Colab\"/></a>"
      ]
    },
    {
      "cell_type": "markdown",
      "source": [
        "#Este es el formato para el proyecto TTECH\n"
      ],
      "metadata": {
        "id": "28-T1iv-wUKS"
      }
    },
    {
      "cell_type": "code",
      "source": [],
      "metadata": {
        "id": "kW-32bXhv71L"
      },
      "execution_count": null,
      "outputs": []
    },
    {
      "cell_type": "markdown",
      "source": [
        "# Presentación"
      ],
      "metadata": {
        "id": "COJRQt17urlO"
      }
    },
    {
      "cell_type": "code",
      "source": [],
      "metadata": {
        "id": "_WFCSXiJur5f"
      },
      "execution_count": null,
      "outputs": []
    },
    {
      "cell_type": "markdown",
      "source": [
        "# Justificación"
      ],
      "metadata": {
        "id": "preTo4tHv7Za"
      }
    },
    {
      "cell_type": "code",
      "source": [],
      "metadata": {
        "id": "sn1edyMuuYtv"
      },
      "execution_count": null,
      "outputs": []
    },
    {
      "cell_type": "markdown",
      "source": [
        "# Ingestión de datos"
      ],
      "metadata": {
        "id": "WDH4gOfYuhWX"
      }
    },
    {
      "cell_type": "code",
      "source": [],
      "metadata": {
        "id": "nCOk0sODukP_"
      },
      "execution_count": null,
      "outputs": []
    },
    {
      "cell_type": "markdown",
      "source": [
        "# Preparación y limpieza"
      ],
      "metadata": {
        "id": "TIEX6876ukhe"
      }
    },
    {
      "cell_type": "code",
      "source": [],
      "metadata": {
        "id": "8hwogYeLuplI"
      },
      "execution_count": null,
      "outputs": []
    },
    {
      "cell_type": "markdown",
      "source": [
        "# Analítica descriptiva"
      ],
      "metadata": {
        "id": "hzxIekEwu80p"
      }
    },
    {
      "cell_type": "code",
      "source": [],
      "metadata": {
        "id": "pmpZ2K6YvGv3"
      },
      "execution_count": null,
      "outputs": []
    },
    {
      "cell_type": "code",
      "source": [],
      "metadata": {
        "id": "C8nCqzbgvyeA"
      },
      "execution_count": null,
      "outputs": []
    },
    {
      "cell_type": "markdown",
      "source": [],
      "metadata": {
        "id": "4ws4ltP1vG-3"
      }
    },
    {
      "cell_type": "markdown",
      "source": [],
      "metadata": {
        "id": "9_8uv7--up1_"
      }
    }
  ]
}